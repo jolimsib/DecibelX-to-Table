{
 "cells": [
  {
   "cell_type": "code",
   "execution_count": 9,
   "metadata": {},
   "outputs": [],
   "source": [
    "import pandas as pd"
   ]
  },
  {
   "cell_type": "code",
   "execution_count": 10,
   "metadata": {},
   "outputs": [
    {
     "data": {
      "text/plain": [
       "'2.0.1'"
      ]
     },
     "execution_count": 10,
     "metadata": {},
     "output_type": "execute_result"
    }
   ],
   "source": [
    "pd.__version__"
   ]
  },
  {
   "cell_type": "code",
   "execution_count": 11,
   "metadata": {},
   "outputs": [
    {
     "name": "stdout",
     "output_type": "stream",
     "text": [
      "hari1_pagi_bengkel_titik3.txt\n",
      "hari1_pagi_rumahkuning_titik3.txt\n",
      "hari1_pagi_tengah_titik3.txt\n",
      "titik3_18_siang_depok.txt\n",
      "titik3_18_siang_jakarta.txt\n",
      "titik3_18_sore_jakarta.txt\n"
     ]
    }
   ],
   "source": [
    "import os\n",
    "\n",
    "for file in os.listdir('data'):\n",
    "    print(file)"
   ]
  },
  {
   "cell_type": "code",
   "execution_count": 14,
   "metadata": {},
   "outputs": [],
   "source": [
    "df = pd.read_csv('data/hari1_pagi_bengkel_titik3.txt', skiprows=9)['Leq (dB-A)']\n",
    "df = df[:120*25]"
   ]
  },
  {
   "cell_type": "code",
   "execution_count": 15,
   "metadata": {},
   "outputs": [],
   "source": [
    "df = df.groupby(df.index // 25).mean()"
   ]
  },
  {
   "cell_type": "code",
   "execution_count": 16,
   "metadata": {},
   "outputs": [
    {
     "data": {
      "text/plain": [
       "0      79.452\n",
       "1      81.416\n",
       "2      81.456\n",
       "3      80.832\n",
       "4      76.904\n",
       "        ...  \n",
       "115    80.268\n",
       "116    78.116\n",
       "117    83.860\n",
       "118    82.516\n",
       "119    81.912\n",
       "Name: Leq (dB-A), Length: 120, dtype: float64"
      ]
     },
     "execution_count": 16,
     "metadata": {},
     "output_type": "execute_result"
    }
   ],
   "source": [
    "df"
   ]
  },
  {
   "cell_type": "code",
   "execution_count": 17,
   "metadata": {},
   "outputs": [],
   "source": [
    "df = pd.DataFrame(df.values.reshape(10, 12), columns=list(range(5, 61, 5)))"
   ]
  },
  {
   "cell_type": "code",
   "execution_count": 18,
   "metadata": {},
   "outputs": [],
   "source": [
    "df.to_csv('output/test.csv')"
   ]
  },
  {
   "cell_type": "code",
   "execution_count": 20,
   "metadata": {},
   "outputs": [],
   "source": [
    "for filename in os.listdir('data'):\n",
    "    # print(filename)\n",
    "    df = pd.read_csv(f'data/{filename}', skiprows=9)\n",
    "    # print(df.head())\n",
    "    df = df['Leq (dB-A)']\n",
    "    df = df[:120*25]\n",
    "    df = df.groupby(df.index // 25).mean()\n",
    "    for i in range(len(df), 120):\n",
    "        df[i] = 0\n",
    "    df = pd.DataFrame(df.values.reshape(10, 12), columns=list(range(5, 61, 5)))\n",
    "    df.to_excel(f'output/{filename[:-4]}.xlsx')"
   ]
  },
  {
   "cell_type": "code",
   "execution_count": 22,
   "metadata": {},
   "outputs": [
    {
     "data": {
      "text/plain": [
       "0      81.332\n",
       "1      78.712\n",
       "2      84.176\n",
       "3      85.348\n",
       "4      79.792\n",
       "        ...  \n",
       "115    82.736\n",
       "116    83.760\n",
       "117    79.848\n",
       "118    79.708\n",
       "119    81.688\n",
       "Name: Leq (dB-A), Length: 120, dtype: float64"
      ]
     },
     "execution_count": 22,
     "metadata": {},
     "output_type": "execute_result"
    }
   ],
   "source": [
    "df = pd.read_csv(f'data/{filename}', skiprows=9)['Leq (dB-A)']\n",
    "df = df[:120*25]\n",
    "df = df.groupby(df.index // 25).mean()\n",
    "for i in range(len(df), 120):\n",
    "    df[i] = 0\n",
    "df"
   ]
  }
 ],
 "metadata": {
  "kernelspec": {
   "display_name": "Python 3",
   "language": "python",
   "name": "python3"
  },
  "language_info": {
   "codemirror_mode": {
    "name": "ipython",
    "version": 3
   },
   "file_extension": ".py",
   "mimetype": "text/x-python",
   "name": "python",
   "nbconvert_exporter": "python",
   "pygments_lexer": "ipython3",
   "version": "3.10.6"
  }
 },
 "nbformat": 4,
 "nbformat_minor": 2
}
